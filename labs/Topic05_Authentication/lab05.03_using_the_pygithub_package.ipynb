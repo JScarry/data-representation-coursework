{
 "cells": [
  {
   "cell_type": "markdown",
   "id": "c51b93b3",
   "metadata": {},
   "source": [
    "#### Data Representation\n",
    "\n",
    "##### Lab 5.03 using packages"
   ]
  },
  {
   "cell_type": "markdown",
   "id": "b190c448",
   "metadata": {},
   "source": [
    "1. install pyGithub\n",
    "2. Write a python script called lab05.03-githubbymodule.py \n",
    "3. Test that your pyGithub works "
   ]
  },
  {
   "cell_type": "markdown",
   "id": "189b5b78",
   "metadata": {},
   "source": [
    "`python -u \"c:\\Users\\JS\\repos\\DR_work\\week5_api_key\\WEEK5_Lab05_03\\lab05.03-githubbymodule.py\"\n",
    "2223-S1-fund-data-analysis\n",
    "aPrivateRepository\n",
    "data-representation-coursework\n",
    "FUNDAMENTALS_OF_DATA_ANALYSIS\n",
    "gitintro\n",
    "MLAS_project\n",
    "mywork\n",
    "pands-problem-sheet\n",
    "pands-project\n",
    "programming\n",
    "PROGRAMMING_FOR_DATA_ANALYSIS\n",
    "Programming_for_Data_Analysis_Project1\n",
    "Programming_for_Data_Analysis_Project2\n",
    "TEST`"
   ]
  },
  {
   "cell_type": "markdown",
   "id": "97a584cb",
   "metadata": {},
   "source": [
    "4. Modify the program to get the clone url of a repository on your account m(you could make \n",
    "    a private one just for this if you wish). Put a file in the repository called test.txt"
   ]
  },
  {
   "cell_type": "markdown",
   "id": "1324e9e9",
   "metadata": {},
   "source": [
    "`python -u \"c:\\Users\\JS\\repos\\DR_work\\week5_api_key\\WEEK5_Lab05_03\\lab05.03-githubbymodule.py\"\n",
    "https://github.com/JScarry/aPrivateRepository.git`"
   ]
  },
  {
   "cell_type": "markdown",
   "id": "4e03cba9",
   "metadata": {},
   "source": [
    "5. Get the downloadurl of the file in this repository called test.txt (make sure that there is a file \n",
    "called test.txt in there"
   ]
  },
  {
   "cell_type": "markdown",
   "id": "1d3206da",
   "metadata": {},
   "source": [
    "`python -u \"c:\\Users\\JS\\repos\\DR_work\\week5_api_key\\WEEK5_Lab05_03\\lab05.03-githubbymodule.py\"\n",
    "https://raw.githubusercontent.com/JScarry/aPrivateRepository/main/test.txt?token=AX-----------------------32`\n"
   ]
  },
  {
   "cell_type": "markdown",
   "id": "208ee9e1",
   "metadata": {},
   "source": [
    "6. I would comment out the print statements once you are happy the program is working\n",
    "7. Use the download URL to make a http request to the file can output the contents of the file \n",
    "(TEXT contents)."
   ]
  },
  {
   "cell_type": "markdown",
   "id": "96d94f45",
   "metadata": {},
   "source": [
    "'python -u \"c:\\Users\\JS\\repos\\DR_work\\week5_api_key\\WEEK5_Lab05_03\\lab05.03-githubbymodule.py\"\n",
    "txt file for:\n",
    "Data Representation\n",
    "Lab 5.03 using packages'"
   ]
  },
  {
   "cell_type": "markdown",
   "id": "45ed6e9c",
   "metadata": {},
   "source": [
    "8. Append the text more stuff (with a newline character) to the contents of the file."
   ]
  },
  {
   "cell_type": "markdown",
   "id": "5efe7608",
   "metadata": {},
   "source": [
    "`python -u \"c:\\Users\\JS\\repos\\DR_work\\week5_api_key\\WEEK5_Lab05_03\\lab05.03-githubbymodule.py\"\n",
    "txt file for:\n",
    "Data Representation\n",
    "Lab 5.03 using packages\n",
    " more stuff`"
   ]
  },
  {
   "cell_type": "markdown",
   "id": "53ac2824",
   "metadata": {},
   "source": [
    "9. Update the contents of the file on git up by using the function "
   ]
  },
  {
   "cell_type": "markdown",
   "id": "99da98e1",
   "metadata": {},
   "source": [
    "`test.txt                 updated by prog                    1 minute ago`"
   ]
  },
  {
   "cell_type": "code",
   "execution_count": null,
   "id": "d3098c7c",
   "metadata": {},
   "outputs": [],
   "source": []
  }
 ],
 "metadata": {
  "kernelspec": {
   "display_name": "Python 3 (ipykernel)",
   "language": "python",
   "name": "python3"
  },
  "language_info": {
   "codemirror_mode": {
    "name": "ipython",
    "version": 3
   },
   "file_extension": ".py",
   "mimetype": "text/x-python",
   "name": "python",
   "nbconvert_exporter": "python",
   "pygments_lexer": "ipython3",
   "version": "3.9.18"
  }
 },
 "nbformat": 4,
 "nbformat_minor": 5
}
